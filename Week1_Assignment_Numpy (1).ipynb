{
 "cells": [
  {
   "cell_type": "markdown",
   "metadata": {
    "id": "t5cuUYUM9ixt"
   },
   "source": [
    "<h3> Instructions </h3>\n",
    "<br>\n",
    "<p>1. Open the notebook file that needs to be copied and edited.<br>\n",
    "2. Go to the \"File\" tab in the notebook's menu bar.<br>\n",
    "3. Select \"Save to Drive\" to create a copy of the notebook in your own Google Drive.<br>\n",
    "4. Once the notebook is saved to your Drive, open it for editing.<br>\n",
    "<br>\n",
    "To work on the exercises in the notebook, follow these steps:<br>\n",
    "1. Read the instructions and explanations provided for each exercise carefully<br>\n",
    "2. Write your code solutions for each exercise in the designated code cells.<br>\n",
    "3. Download the images shared in the folder and upload them to the colab session<br>\n",
    "\n",
    "Important Note: It is recommended to read and understand the exercises thoroughly, as questions related to this assignment may be asked in a quiz.</p>."
   ]
  },
  {
   "cell_type": "markdown",
   "metadata": {
    "id": "XvPIU3OXwAHE"
   },
   "source": [
    "<h1 align = 'center'>Image Data : Analysis using numpy</h1>\n",
    "<hr>\n",
    "<br><p style=\"font-size:1.3em;\">Reading images is one of the most common uses of a numpy array. An image can be represented as a 3 Dimensional numpy array. The color of every pixel in the image can be represented by 3 numbers, the RGB value of that pixel.</p>"
   ]
  },
  {
   "cell_type": "code",
   "execution_count": null,
   "metadata": {
    "id": "LTEG_kLavivk"
   },
   "outputs": [],
   "source": [
    "from IPython.display import Image\n",
    "Image(filename='rgb.jpg' ,width=500)"
   ]
  },
  {
   "cell_type": "markdown",
   "metadata": {
    "id": "Vv34sUa-wgZ_"
   },
   "source": [
    "<br>\n",
    "<hr>\n",
    "\n",
    "<p style=\"font-family: Arial; font-size:1.75em; font-style:bold\">Loading the libraries we need: Numpy, Matplotlib</p>"
   ]
  },
  {
   "cell_type": "code",
   "execution_count": null,
   "metadata": {
    "id": "gqDNlDOvwT3h"
   },
   "outputs": [],
   "source": [
    "import numpy as np                   #Numpy for all the computations\n",
    "import matplotlib.pyplot as plt      #Matplotlib to display the images\n",
    "%matplotlib inline"
   ]
  },
  {
   "cell_type": "markdown",
   "metadata": {
    "id": "UIDio7pzwlmB"
   },
   "source": [
    "<p style=\"font-family: Arial; font-size:1.75em; font-style:bold\">\n",
    "Creating a numpy array from an image file:</p> \n",
    "\n",
    "<br>\n"
   ]
  },
  {
   "cell_type": "code",
   "execution_count": null,
   "metadata": {
    "id": "RvlOula-we6b"
   },
   "outputs": [],
   "source": [
    "photo_data = plt.imread('Milky_way.jpg')  #Command to read images"
   ]
  },
  {
   "cell_type": "markdown",
   "metadata": {
    "id": "A18SfVtBwtGY"
   },
   "source": [
    "<p style=\"font-size:1.3em;\">Let's see what is in this image. </p>"
   ]
  },
  {
   "cell_type": "code",
   "execution_count": null,
   "metadata": {
    "id": "g9SYOEedwofV"
   },
   "outputs": [],
   "source": [
    "plt.figure(figsize=(10,10)) #Sets the size of the figure displayed\n",
    "plt.imshow(photo_data);     #Command to display images"
   ]
  },
  {
   "cell_type": "code",
   "execution_count": null,
   "metadata": {
    "id": "-RYE4doYwyN3"
   },
   "outputs": [],
   "source": [
    "photo_data.size    #Total Number of pixels"
   ]
  },
  {
   "cell_type": "code",
   "execution_count": null,
   "metadata": {
    "id": "Jsaxnt7Mw2xs"
   },
   "outputs": [],
   "source": [
    "photo_data.min(),photo_data.max()   "
   ]
  },
  {
   "cell_type": "code",
   "execution_count": null,
   "metadata": {
    "id": "GU27hZVpw40o"
   },
   "outputs": [],
   "source": [
    "photo_data.shape"
   ]
  },
  {
   "cell_type": "markdown",
   "metadata": {
    "id": "Itm68sx1yIn3"
   },
   "source": [
    "## Graded Task 1:\n",
    "<p style=\"font-size:1.3em;\">Find the value of the Red, Green and Blue channel at the 4 corners of the image<br><hr>"
   ]
  },
  {
   "cell_type": "code",
   "execution_count": null,
   "metadata": {
    "id": "UoaOZZ7As0wP"
   },
   "outputs": [],
   "source": [
    "#Code Here"
   ]
  },
  {
   "cell_type": "markdown",
   "metadata": {
    "id": "p94dUI2cyNZy"
   },
   "source": [
    "#### Lets now try to visualize the RGB channels of the image separately.<br>\n",
    "<p style=\"font-size:1em;\">\n",
    "We do that by first creating 3 copies of the image for the red, blue and green channels respectively.<br>\n",
    "We then set the green and blue channels to zero in the red image.<br>\n",
    "Similar procedures are followed to generate the other images.<br>\n",
    "Finally, we concatenate the images to display them at the same time.<br>"
   ]
  },
  {
   "cell_type": "code",
   "execution_count": null,
   "metadata": {
    "id": "cf1DuE22j7aX",
    "scrolled": true
   },
   "outputs": [],
   "source": [
    "img_R, img_G, img_B = photo_data.copy(), photo_data.copy(), photo_data.copy()  #Creating 3 copies\n",
    "img_R[:, :, (1, 2)] = 0   #Setting the blue and green channels to 0\n",
    "img_G[:, :, (0, 2)] = 0   #Setting the red and blue channels to 0\n",
    "img_B[:, :, (0, 1)] = 0   #Setting the red and green channels to 0\n",
    "\n",
    "\n",
    "img_rgb = np.concatenate((img_R,img_G,img_B), axis=1)   #Concatenating the images to view them at once\n",
    "plt.figure(figsize=(15, 15))\n",
    "plt.imshow(img_rgb)"
   ]
  },
  {
   "cell_type": "markdown",
   "metadata": {
    "id": "gaiD8_UGzQTO"
   },
   "source": [
    "## Graded Task 2:<br>\n",
    "Following a similar procedure as above, create an image by removing the red channel from the given channel only, leaving the blue and green channels intact.<br>\n",
    "<hr>"
   ]
  },
  {
   "cell_type": "code",
   "execution_count": null,
   "metadata": {
    "id": "RBebTyP4s4hW"
   },
   "outputs": [],
   "source": [
    "#Code Here"
   ]
  },
  {
   "cell_type": "markdown",
   "metadata": {
    "id": "1KHw8-7NzUP1"
   },
   "source": [
    "## Now we make some basic edits to the image"
   ]
  },
  {
   "cell_type": "markdown",
   "metadata": {
    "id": "M9a79Whkzj6h"
   },
   "source": [
    "### a) Cropping"
   ]
  },
  {
   "cell_type": "code",
   "execution_count": null,
   "metadata": {
    "id": "daVYNnYtj7aY",
    "scrolled": true
   },
   "outputs": [],
   "source": [
    "crop_img = photo_data[20:199,:200,:]     \n",
    "imgplot = plt.imshow(crop_img)"
   ]
  },
  {
   "cell_type": "markdown",
   "metadata": {
    "id": "ZHSYfUrfj7aY"
   },
   "source": [
    "### b) Grayscale.\n",
    "We can also use NumPy for transforming the image into a grayscale image.<br>\n",
    "We have set weighted means for each of the channels and we create a grayscale image by taking a dot product with the weights"
   ]
  },
  {
   "cell_type": "code",
   "execution_count": null,
   "metadata": {
    "id": "RZadv4gm1Wv9"
   },
   "outputs": [],
   "source": [
    "grayscale_image = photo_data.mean(axis = 2)     #Computing the mean across the channel axis\n",
    "imgplot = plt.imshow(grayscale_image , cmap = \"gray\")  "
   ]
  },
  {
   "cell_type": "code",
   "execution_count": null,
   "metadata": {
    "id": "GT_kB81ej7aY",
    "scrolled": true
   },
   "outputs": [],
   "source": [
    "rgb_weights = [0.2989, 0.5870, 0.1140]                #Mean weights of the rgb channels\n",
    "grayscale_image = np.dot(photo_data, rgb_weights)     #Dot product\n",
    "imgplot = plt.imshow(grayscale_image )                #cmap = \"gray\""
   ]
  },
  {
   "cell_type": "markdown",
   "metadata": {
    "id": "8qt4c7Ft1aEP"
   },
   "source": [
    "## What is the difference between the 2 codes for converting a colored image to grayscale?\n",
    "Check this out to find more: https://e2eml.school/convert_rgb_to_grayscale.html"
   ]
  },
  {
   "cell_type": "markdown",
   "metadata": {
    "id": "xU6HNVj5j7aY"
   },
   "source": [
    "### c) Simple Filters"
   ]
  },
  {
   "cell_type": "markdown",
   "metadata": {
    "id": "fS9z070Zj7aZ"
   },
   "source": [
    "We start with a filter to reduce very bright pixels. Any pixel where the blue pixel has a value greater than 150, we clip to 150.\n"
   ]
  },
  {
   "cell_type": "code",
   "execution_count": null,
   "metadata": {
    "id": "VDtpfO40j7aZ",
    "scrolled": true
   },
   "outputs": [],
   "source": [
    "img_150 = (photo_data[:,:,2] > 150)      #Boolean array having true false values based on the condition\n",
    "img=photo_data.copy()\n",
    "img[img_150]=150                         #Clipping the value to a 150 where the img_150 is true\n",
    "plt.imshow(img)"
   ]
  },
  {
   "cell_type": "markdown",
   "metadata": {
    "id": "ogWTLoZJt6FD"
   },
   "source": [
    "#Graded Task 3:\n",
    "Create a filter for the image which sets all the pixels lesser than 50 in the Red Channel, to 0.\n",
    "Figure out how to save the image and upload the image to your Google Drive.<br>\n",
    "Enter the link to the drive in the form that will be floated.<br>\n",
    "Make sure to have the drive link viewable to everyone.\n",
    "\n",
    "<hr>"
   ]
  },
  {
   "cell_type": "code",
   "execution_count": null,
   "metadata": {
    "id": "3GYc1AgGj7aZ"
   },
   "outputs": [],
   "source": [
    "#Code Here"
   ]
  },
  {
   "cell_type": "markdown",
   "metadata": {
    "id": "6paBgpL5j7aZ"
   },
   "source": [
    "## Graded Task 4:\n",
    "<p>Create a filter for the image which sets all the pixels lesser than 150 in the Grayscale image to 0 and others to 255. This technique is commonly as Binarization (Black and White).<br>\n",
    "Figure out how to save the image and upload the image to your Google Drive.<br>\n",
    "Enter the link to the drive in the form that will be floated.<br>\n",
    "Make sure to have the drive link viewable to everyone.<br></p>\n",
    "<hr>"
   ]
  },
  {
   "cell_type": "code",
   "execution_count": null,
   "metadata": {
    "id": "APuaW-Yk8AMt"
   },
   "outputs": [],
   "source": [
    "#Code Here"
   ]
  },
  {
   "cell_type": "markdown",
   "metadata": {
    "id": "NRVI7izv1yxU"
   },
   "source": [
    "<h3>OPTIONAL</h3> ( BONUS :) )"
   ]
  },
  {
   "cell_type": "markdown",
   "metadata": {
    "id": "ks3WFFNA2Ei0"
   },
   "source": [
    "You may notice that binarized image has lost the clarity in features compared to that in grayscale image. Can you improve the clarity? Follow the comments to complete the function and try it out."
   ]
  },
  {
   "cell_type": "code",
   "execution_count": null,
   "metadata": {
    "id": "NCmEVJJT07HE"
   },
   "outputs": [],
   "source": [
    "def floyd_steinberg(im_gs):\n",
    "    \"\"\"\n",
    "    Implements the Floyd steinberg algorithm to create binary image from grayscale image\n",
    "    \"\"\"\n",
    "    #copy the input image (im_gs) as im_temp and assign binarization threshold as thres = 255//2\n",
    "\n",
    "    for row in range(0,im_gs.shape[0]-1):\n",
    "        for col in range(1,im_gs.shape[1]-1):\n",
    "            old = im_temp[row, col]\n",
    "            \n",
    "            # write an if else loop to binarize current (row,col) pixel in im_temp\n",
    "\n",
    "            quant_error = old - im_temp[row, col]\n",
    "            im_temp[row, col+1] = im_temp[row, col+1] + quant_error * 7 /16\n",
    "            im_temp[row+1, col-1] = im_temp[row+1, col-1] + quant_error * 3 /16\n",
    "            im_temp[row+1, col] = im_temp[row+1, col] + quant_error * 5 /16\n",
    "            im_temp[row+1, col+1] = im_temp[row+1, col+1] + quant_error * 1 /16\n",
    "\n",
    "    #Now finally binarize the im_temp image\n",
    "\n",
    "    return im_temp"
   ]
  }
 ],
 "metadata": {
  "colab": {
   "provenance": []
  },
  "kernelspec": {
   "display_name": "Python 3 (ipykernel)",
   "language": "python",
   "name": "python3"
  },
  "language_info": {
   "codemirror_mode": {
    "name": "ipython",
    "version": 3
   },
   "file_extension": ".py",
   "mimetype": "text/x-python",
   "name": "python",
   "nbconvert_exporter": "python",
   "pygments_lexer": "ipython3",
   "version": "3.10.9"
  }
 },
 "nbformat": 4,
 "nbformat_minor": 1
}
